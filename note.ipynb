{
 "cells": [
  {
   "cell_type": "code",
   "execution_count": 1,
   "metadata": {},
   "outputs": [],
   "source": [
    "from utils.IBRS import TRC, RSU, OBU\n",
    "import time\n",
    "from decimal import Decimal\n",
    "import csv\n",
    "\n",
    "from utils.drawtools import pltbar"
   ]
  },
  {
   "cell_type": "code",
   "execution_count": 2,
   "metadata": {},
   "outputs": [],
   "source": [
    "with open('./data/VID.csv') as f:\n",
    "    csv_reader = csv.reader(f)\n",
    "    head = next(csv_reader)\n",
    "\n",
    "    VID_POOL = [x for x in csv_reader]"
   ]
  },
  {
   "cell_type": "code",
   "execution_count": 3,
   "metadata": {},
   "outputs": [],
   "source": [
    "N = 1 # 实验次数，最后结果取平均"
   ]
  },
  {
   "cell_type": "markdown",
   "metadata": {},
   "source": [
    "---\n",
    "\n",
    "## [Round1 - OBU Generation] SS512 vs MNT159\n"
   ]
  },
  {
   "cell_type": "code",
   "execution_count": 4,
   "metadata": {},
   "outputs": [],
   "source": [
    "def test_obugen(N, L, t_trc):\n",
    "    recorder = []\n",
    "    trc = TRC(t_trc, L, 'exp #1')\n",
    "    start = time.process_time()\n",
    "    for i in range(N):\n",
    "        obu = OBU(trc, VID_POOL[i])\n",
    "    end = time.process_time()\n",
    "    cost = Decimal((Decimal(end) - Decimal(start)) * 1000 / N).quantize(Decimal(\"0.00\"))\n",
    "    return cost"
   ]
  },
  {
   "cell_type": "markdown",
   "metadata": {},
   "source": [
    "横坐标： 二叉树的深度，`range(10, 21)`\n",
    "\n",
    "纵坐标： 时间，单位：毫秒 （精确到小数点后两位）\n",
    "\n",
    "比较对象： SS512, MNT159\n",
    "\n",
    "---"
   ]
  },
  {
   "cell_type": "code",
   "execution_count": 5,
   "metadata": {},
   "outputs": [
    {
     "data": {
      "text/plain": [
       "[[2.5, 3.46, 2.65], [17.11, 18.12, 17.36]]"
      ]
     },
     "execution_count": 5,
     "metadata": {},
     "output_type": "execute_result"
    }
   ],
   "source": [
    "types = ['MNT159', 'SS512']\n",
    "time_cost = [[], []]\n",
    "for i, t in enumerate(types):\n",
    "    for j in range(10, 13):\n",
    "        result = test_obugen(N, j, t)\n",
    "        time_cost[i].append(float(result))\n",
    "time_cost"
   ]
  },
  {
   "cell_type": "code",
   "execution_count": 6,
   "metadata": {},
   "outputs": [
    {
     "data": {
      "image/png": "[encoded data removed]",
      "text/plain": [
       "<Figure size 432x288 with 1 Axes>"
      ]
     },
     "metadata": {
      "needs_background": "light"
     },
     "output_type": "display_data"
    }
   ],
   "source": [
    "# data = [(x,y) for x, y in zip(*time_cost)]\n",
    "\n",
    "pltbar(3, 0.35, time_cost, ['MNT159', 'SS512'], range(10, 14), 'Computation cost (ms)')"
   ]
  }
 ],
 "metadata": {
  "kernelspec": {
   "display_name": "Python 3",
   "language": "python",
   "name": "python3"
  },
  "language_info": {
   "codemirror_mode": {
    "name": "ipython",
    "version": 3
   },
   "file_extension": ".py",
   "mimetype": "text/x-python",
   "name": "python",
   "nbconvert_exporter": "python",
   "pygments_lexer": "ipython3",
   "version": "3.7.3"
  }
 },
 "nbformat": 4,
 "nbformat_minor": 4
}
