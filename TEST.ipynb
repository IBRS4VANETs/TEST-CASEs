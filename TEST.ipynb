{
 "cells": [
  {
   "cell_type": "code",
   "execution_count": 1,
   "metadata": {},
   "outputs": [],
   "source": [
    "from utils.IBRS import TRC, RSU, OBU\n",
    "from utils.drawtools import pltbar, pltpoly\n",
    "from random import choice"
   ]
  },
  {
   "cell_type": "code",
   "execution_count": 2,
   "metadata": {},
   "outputs": [],
   "source": [
    "import csv\n",
    "with open('./data/VID.csv') as f: # 导入 VID 池\n",
    "    csv_reader = csv.reader(f)\n",
    "    head = next(csv_reader)\n",
    "\n",
    "    VID_POOL = [x for x in csv_reader]"
   ]
  },
  {
   "cell_type": "code",
   "execution_count": 3,
   "metadata": {},
   "outputs": [],
   "source": [
    "trc = TRC('MNT159', 10, 'exp #4')\n",
    "rsu = RSU(trc, 'rsu #1')\n",
    "obus = [OBU(trc, VID_POOL[x]) for x in range(10)]"
   ]
  },
  {
   "cell_type": "markdown",
   "metadata": {},
   "source": [
    "控制变量法：\n",
    "\n",
    "变量1 ： ring list 长度\n",
    "\n",
    "变量2 ： 签名个数\n",
    "\n",
    "横坐标： 签名个数， 累计签名所需时间 （不是平均） range(10, 101, 10)\n",
    "\n",
    "纵坐标： 时间\n",
    "\n",
    "比较对象： ring list 长度，range(2,9)"
   ]
  },
  {
   "cell_type": "code",
   "execution_count": 4,
   "metadata": {},
   "outputs": [],
   "source": [
    "def test_batveri(N, s_num, r_num):\n",
    "    recorder = []\n",
    "    for i in range(s_num):\n",
    "        candidate = set()\n",
    "        while len(candidate) < r_num:\n",
    "            candidate.add(choice(obus))\n",
    "        obu = choice(list(candidate))\n",
    "        sigmaList = []\n",
    "        ringList = [x.pk for x in list(candidate)]\n",
    "        message = 'TEST' + str(i)\n",
    "        sigma = obu.ring_sign(message, ringList)\n",
    "        sigmaList.append((sigma, message, ringList))\n",
    "    \n",
    "    start = time.process_time()\n",
    "    for epoch in range(N):\n",
    "        obu = choice(obus)\n",
    "        obu.batchV(sigmaList)\n",
    "    end = time.process_time()\n",
    "    cost = Decimal((Decimal(end) - Decimal(start)) * 1000 / N).quantize(Decimal(\"0.00\"))\n",
    "    return cost"
   ]
  },
  {
   "cell_type": "code",
   "execution_count": 11,
   "metadata": {},
   "outputs": [
    {
     "name": "stdout",
     "output_type": "stream",
     "text": [
      "True\n"
     ]
    }
   ],
   "source": [
    "test_batveri(1, 10, 2)"
   ]
  }
 ],
 "metadata": {
  "kernelspec": {
   "display_name": "Python 3",
   "language": "python",
   "name": "python3"
  },
  "language_info": {
   "codemirror_mode": {
    "name": "ipython",
    "version": 3
   },
   "file_extension": ".py",
   "mimetype": "text/x-python",
   "name": "python",
   "nbconvert_exporter": "python",
   "pygments_lexer": "ipython3",
   "version": "3.7.3"
  }
 },
 "nbformat": 4,
 "nbformat_minor": 4
}
