{
 "cells": [
  {
   "cell_type": "code",
   "execution_count": 1,
   "metadata": {},
   "outputs": [],
   "source": [
    "from IBRS import TRC, RSU, OBU\n",
    "import time\n",
    "from decimal import Decimal\n",
    "import csv\n",
    "\n",
    "# 导入VID\n",
    "with open('./VID.csv') as f:\n",
    "    csv_reader = csv.reader(f)\n",
    "    head = next(csv_reader)\n",
    "    VID_POOL = [x for x in csv_reader]"
   ]
  },
  {
   "cell_type": "markdown",
   "metadata": {},
   "source": [
    "---\n",
    "## [Round1 - OBU Generation] SS512 vs MNT224"
   ]
  },
  {
   "cell_type": "code",
   "execution_count": 2,
   "metadata": {},
   "outputs": [],
   "source": [
    "def test(N, L, t_trc):\n",
    "    recorder = []\n",
    "    trc = TRC(t_trc, L, 'exp #1')\n",
    "    start = time.process_time()\n",
    "    for i in range(N):\n",
    "        obu = OBU(trc, VID_POOL[i])\n",
    "    end = time.process_time()\n",
    "    cost = Decimal((Decimal(end) - Decimal(start)) * 1000 / N).quantize(Decimal(\"0.00\"))\n",
    "    return cost"
   ]
  },
  {
   "cell_type": "markdown",
   "metadata": {},
   "source": [
    "---\n",
    "\n",
    "横坐标 树的深度： 10, 11, 12, 13, 14, 15, 16, 17, 18, 19, 20\n",
    "\n",
    "纵坐标 时间，单位：毫秒 （精确到小数点后两位）\n",
    "\n",
    "比较对象： SS512, MNT224"
   ]
  },
  {
   "cell_type": "code",
   "execution_count": 4,
   "metadata": {},
   "outputs": [
    {
     "name": "stdout",
     "output_type": "stream",
     "text": [
      "[Decimal('2.47'), Decimal('2.56'), Decimal('2.57'), Decimal('2.65'), Decimal('2.88'), Decimal('3.90'), Decimal('3.84'), Decimal('7.60'), Decimal('9.21'), Decimal('22.61'), Decimal('28.94')]\n",
      "[Decimal('17.13'), Decimal('18.34'), Decimal('17.31'), Decimal('17.36'), Decimal('17.66'), Decimal('18.00'), Decimal('19.20'), Decimal('20.85'), Decimal('24.26'), Decimal('29.85'), Decimal('43.14')]\n"
     ]
    }
   ],
   "source": [
    "types = ['MNT159', 'SS512']\n",
    "for t in types:\n",
    "    time_cost = []\n",
    "    for i in range(10, 21):\n",
    "        result = test(1, i, t)\n",
    "        time_cost.append(result)\n",
    "    print(time_cost)"
   ]
  },
  {
   "cell_type": "code",
   "execution_count": null,
   "metadata": {},
   "outputs": [],
   "source": []
  }
 ],
 "metadata": {
  "kernelspec": {
   "display_name": "Python 3",
   "language": "python",
   "name": "python3"
  },
  "language_info": {
   "codemirror_mode": {
    "name": "ipython",
    "version": 3
   },
   "file_extension": ".py",
   "mimetype": "text/x-python",
   "name": "python",
   "nbconvert_exporter": "python",
   "pygments_lexer": "ipython3",
   "version": "3.7.3"
  }
 },
 "nbformat": 4,
 "nbformat_minor": 4
}
